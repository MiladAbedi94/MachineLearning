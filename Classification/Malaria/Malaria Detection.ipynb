{
 "cells": [
  {
   "cell_type": "code",
   "execution_count": 1,
   "metadata": {},
   "outputs": [],
   "source": [
    "%%bash\n",
    "if [ ! -d \"DataSet\" ] ; then \n",
    "    mkdir \"DataSet\"\n",
    "    cd \"DataSet\"\n",
    "    curl -O \"https://ceb.nlm.nih.gov/proj/malaria/cell_images.zip\"\n",
    "    unzip cell_images.zip\n",
    "fi"
   ]
  },
  {
   "cell_type": "code",
   "execution_count": 2,
   "metadata": {},
   "outputs": [
    {
     "name": "stdout",
     "output_type": "stream",
     "text": [
      "Found 19292 images belonging to 2 classes.\n",
      "Found 8266 images belonging to 2 classes.\n"
     ]
    }
   ],
   "source": [
    "import tensorflow as tf;\n",
    "DataGenerator=tf.keras.preprocessing.image.ImageDataGenerator(rescale=1./255,validation_split=0.3)\n",
    "TrainGenerator=DataGenerator.flow_from_directory(\"DataSet/cell_images\",subset=\"training\",target_size=(128, 128),class_mode='binary',classes=[\"Uninfected\",\"Parasitized\"],batch_size=16)\n",
    "TestGenerator= DataGenerator.flow_from_directory(\"DataSet/cell_images\",subset=\"validation\",target_size=(128, 128),class_mode='binary',classes=[\"Uninfected\",\"Parasitized\"],batch_size=16)"
   ]
  },
  {
   "cell_type": "code",
   "execution_count": 3,
   "metadata": {},
   "outputs": [
    {
     "name": "stdout",
     "output_type": "stream",
     "text": [
      "_________________________________________________________________\n",
      "Layer (type)                 Output Shape              Param #   \n",
      "=================================================================\n",
      "conv2d_1 (Conv2D)            (None, 126, 126, 64)      1792      \n",
      "_________________________________________________________________\n",
      "max_pooling2d_1 (MaxPooling2 (None, 63, 63, 64)        0         \n",
      "_________________________________________________________________\n",
      "conv2d_2 (Conv2D)            (None, 61, 61, 32)        18464     \n",
      "_________________________________________________________________\n",
      "max_pooling2d_2 (MaxPooling2 (None, 30, 30, 32)        0         \n",
      "_________________________________________________________________\n",
      "conv2d_3 (Conv2D)            (None, 28, 28, 32)        9248      \n",
      "_________________________________________________________________\n",
      "max_pooling2d_3 (MaxPooling2 (None, 14, 14, 32)        0         \n",
      "_________________________________________________________________\n",
      "conv2d_4 (Conv2D)            (None, 12, 12, 16)        4624      \n",
      "_________________________________________________________________\n",
      "max_pooling2d_4 (MaxPooling2 (None, 6, 6, 16)          0         \n",
      "_________________________________________________________________\n",
      "flatten_1 (Flatten)          (None, 576)               0         \n",
      "_________________________________________________________________\n",
      "dense_1 (Dense)              (None, 512)               295424    \n",
      "_________________________________________________________________\n",
      "dense_2 (Dense)              (None, 256)               131328    \n",
      "_________________________________________________________________\n",
      "dense_3 (Dense)              (None, 64)                16448     \n",
      "_________________________________________________________________\n",
      "dense_4 (Dense)              (None, 16)                1040      \n",
      "_________________________________________________________________\n",
      "dense_5 (Dense)              (None, 1)                 17        \n",
      "=================================================================\n",
      "Total params: 478,385\n",
      "Trainable params: 478,385\n",
      "Non-trainable params: 0\n",
      "_________________________________________________________________\n"
     ]
    }
   ],
   "source": [
    "Model=tf.keras.models.Sequential()\n",
    "Model.add(tf.keras.layers.Conv2D(filters=64,kernel_size=(3,3),input_shape=(128,128,3),activation=\"relu\"))\n",
    "Model.add(tf.keras.layers.MaxPooling2D(pool_size=(2,2)))\n",
    "Model.add(tf.keras.layers.Conv2D(filters=32,kernel_size=(3,3),activation=\"relu\"))\n",
    "Model.add(tf.keras.layers.MaxPooling2D(pool_size=(2,2)))\n",
    "Model.add(tf.keras.layers.Conv2D(filters=32,kernel_size=(3,3),activation=\"relu\"))\n",
    "Model.add(tf.keras.layers.MaxPooling2D(pool_size=(2,2)))\n",
    "Model.add(tf.keras.layers.Conv2D(filters=16,kernel_size=(3,3),activation=\"relu\"))\n",
    "Model.add(tf.keras.layers.MaxPooling2D(pool_size=(2,2)))\n",
    "Model.add(tf.keras.layers.Flatten())\n",
    "Model.add(tf.keras.layers.Dense(units=512,activation=\"relu\"))\n",
    "Model.add(tf.keras.layers.Dense(units=256,activation=\"relu\"))\n",
    "Model.add(tf.keras.layers.Dense(units=64,activation=\"relu\"))\n",
    "Model.add(tf.keras.layers.Dense(units=16,activation=\"relu\"))\n",
    "Model.add(tf.keras.layers.Dense(units=1,activation=\"sigmoid\"))\n",
    "Model.summary()"
   ]
  },
  {
   "cell_type": "code",
   "execution_count": 4,
   "metadata": {},
   "outputs": [],
   "source": [
    "Model.compile(optimizer=\"Adam\",loss=\"binary_crossentropy\",metrics=[\"acc\"])"
   ]
  },
  {
   "cell_type": "code",
   "execution_count": 5,
   "metadata": {},
   "outputs": [
    {
     "name": "stdout",
     "output_type": "stream",
     "text": [
      "Epoch 1/5\n",
      "1206/1206 [==============================] - 137s 114ms/step - loss: 0.2515 - acc: 0.8893\n",
      "Epoch 2/5\n",
      "1206/1206 [==============================] - 34s 28ms/step - loss: 0.1464 - acc: 0.9547\n",
      "Epoch 3/5\n",
      "1206/1206 [==============================] - 33s 28ms/step - loss: 0.1385 - acc: 0.9566\n",
      "Epoch 4/5\n",
      "1206/1206 [==============================] - 34s 28ms/step - loss: 0.1290 - acc: 0.9577\n",
      "Epoch 5/5\n",
      "1206/1206 [==============================] - 34s 28ms/step - loss: 0.1250 - acc: 0.9579\n"
     ]
    },
    {
     "data": {
      "text/plain": [
       "<tensorflow.python.keras._impl.keras.callbacks.History at 0x7f1f7ce4b358>"
      ]
     },
     "execution_count": 5,
     "metadata": {},
     "output_type": "execute_result"
    }
   ],
   "source": [
    "Model.fit_generator(TrainGenerator,epochs=5,use_multiprocessing=True,workers=8)"
   ]
  },
  {
   "cell_type": "code",
   "execution_count": 6,
   "metadata": {},
   "outputs": [
    {
     "name": "stdout",
     "output_type": "stream",
     "text": [
      "Testing accuracy is 96%.\n"
     ]
    }
   ],
   "source": [
    "_,test_acc=Model.evaluate_generator(TestGenerator)\n",
    "print(\"Testing accuracy is {0:.0%}.\".format(test_acc))"
   ]
  }
 ],
 "metadata": {
  "kernelspec": {
   "display_name": "Python 3",
   "language": "python",
   "name": "python3"
  },
  "language_info": {
   "codemirror_mode": {
    "name": "ipython",
    "version": 3
   },
   "file_extension": ".py",
   "mimetype": "text/x-python",
   "name": "python",
   "nbconvert_exporter": "python",
   "pygments_lexer": "ipython3",
   "version": "3.6.8"
  }
 },
 "nbformat": 4,
 "nbformat_minor": 2
}
